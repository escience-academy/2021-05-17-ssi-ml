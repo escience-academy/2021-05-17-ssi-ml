{
 "cells": [
  {
   "cell_type": "code",
   "execution_count": 41,
   "id": "5f899608",
   "metadata": {},
   "outputs": [],
   "source": [
    "import pandas as pd"
   ]
  },
  {
   "cell_type": "code",
   "execution_count": 42,
   "id": "fb70ec84",
   "metadata": {},
   "outputs": [],
   "source": [
    "surveys_df = pd.read_csv('../data/raw/surveys.csv')"
   ]
  },
  {
   "cell_type": "code",
   "execution_count": 43,
   "id": "5c7a6f15",
   "metadata": {},
   "outputs": [
    {
     "data": {
      "text/html": [
       "<div>\n",
       "<style scoped>\n",
       "    .dataframe tbody tr th:only-of-type {\n",
       "        vertical-align: middle;\n",
       "    }\n",
       "\n",
       "    .dataframe tbody tr th {\n",
       "        vertical-align: top;\n",
       "    }\n",
       "\n",
       "    .dataframe thead th {\n",
       "        text-align: right;\n",
       "    }\n",
       "</style>\n",
       "<table border=\"1\" class=\"dataframe\">\n",
       "  <thead>\n",
       "    <tr style=\"text-align: right;\">\n",
       "      <th></th>\n",
       "      <th>record_id</th>\n",
       "      <th>month</th>\n",
       "      <th>day</th>\n",
       "      <th>year</th>\n",
       "      <th>plot_id</th>\n",
       "      <th>species_id</th>\n",
       "      <th>sex</th>\n",
       "      <th>hindfoot_length</th>\n",
       "      <th>weight</th>\n",
       "    </tr>\n",
       "  </thead>\n",
       "  <tbody>\n",
       "    <tr>\n",
       "      <th>0</th>\n",
       "      <td>1</td>\n",
       "      <td>7</td>\n",
       "      <td>16</td>\n",
       "      <td>1977</td>\n",
       "      <td>2</td>\n",
       "      <td>NL</td>\n",
       "      <td>M</td>\n",
       "      <td>32.0</td>\n",
       "      <td>NaN</td>\n",
       "    </tr>\n",
       "    <tr>\n",
       "      <th>1</th>\n",
       "      <td>2</td>\n",
       "      <td>7</td>\n",
       "      <td>16</td>\n",
       "      <td>1977</td>\n",
       "      <td>3</td>\n",
       "      <td>NL</td>\n",
       "      <td>M</td>\n",
       "      <td>33.0</td>\n",
       "      <td>NaN</td>\n",
       "    </tr>\n",
       "  </tbody>\n",
       "</table>\n",
       "</div>"
      ],
      "text/plain": [
       "   record_id  month  day  year  plot_id species_id sex  hindfoot_length  \\\n",
       "0          1      7   16  1977        2         NL   M             32.0   \n",
       "1          2      7   16  1977        3         NL   M             33.0   \n",
       "\n",
       "   weight  \n",
       "0     NaN  \n",
       "1     NaN  "
      ]
     },
     "execution_count": 43,
     "metadata": {},
     "output_type": "execute_result"
    }
   ],
   "source": [
    "surveys_df.head(2)"
   ]
  },
  {
   "cell_type": "code",
   "execution_count": 44,
   "id": "a5a22ef9",
   "metadata": {},
   "outputs": [
    {
     "data": {
      "text/plain": [
       "count    32283.000000\n",
       "mean        42.672428\n",
       "std         36.631259\n",
       "min          4.000000\n",
       "25%         20.000000\n",
       "50%         37.000000\n",
       "75%         48.000000\n",
       "max        280.000000\n",
       "Name: weight, dtype: float64"
      ]
     },
     "execution_count": 44,
     "metadata": {},
     "output_type": "execute_result"
    }
   ],
   "source": [
    "surveys_df['weight'].describe() # get a summary of staticsts"
   ]
  },
  {
   "cell_type": "code",
   "execution_count": 45,
   "id": "8b13e8a3",
   "metadata": {},
   "outputs": [
    {
     "data": {
      "text/plain": [
       "plot_id  sex\n",
       "1        F      46.311138\n",
       "         M      55.950560\n",
       "2        F      52.561845\n",
       "         M      51.391382\n",
       "3        F      31.215349\n",
       "         M      34.163241\n",
       "4        F      46.818824\n",
       "         M      48.888119\n",
       "5        F      40.974806\n",
       "         M      40.708551\n",
       "6        F      36.352288\n",
       "         M      36.867388\n",
       "7        F      20.006135\n",
       "         M      21.194719\n",
       "8        F      45.623011\n",
       "         M      49.641372\n",
       "9        F      53.618469\n",
       "         M      49.519309\n",
       "10       F      17.094203\n",
       "         M      19.971223\n",
       "11       F      43.515075\n",
       "         M      43.366197\n",
       "12       F      49.831731\n",
       "         M      48.909710\n",
       "13       F      40.524590\n",
       "         M      40.097754\n",
       "14       F      47.355491\n",
       "         M      45.159378\n",
       "15       F      26.670236\n",
       "         M      27.523691\n",
       "16       F      25.810427\n",
       "         M      23.811321\n",
       "17       F      48.176201\n",
       "         M      47.558853\n",
       "18       F      36.963514\n",
       "         M      43.546952\n",
       "19       F      21.978599\n",
       "         M      20.306878\n",
       "20       F      52.624406\n",
       "         M      44.197279\n",
       "21       F      25.974832\n",
       "         M      22.772622\n",
       "22       F      53.647059\n",
       "         M      54.572531\n",
       "23       F      20.564417\n",
       "         M      18.941463\n",
       "24       F      47.914405\n",
       "         M      39.321503\n",
       "Name: weight, dtype: float64"
      ]
     },
     "execution_count": 45,
     "metadata": {},
     "output_type": "execute_result"
    }
   ],
   "source": [
    "surveys_df.groupby(['plot_id', 'sex'])['weight'].mean()"
   ]
  },
  {
   "cell_type": "markdown",
   "id": "b35c0b71",
   "metadata": {},
   "source": [
    "## Summary counts"
   ]
  },
  {
   "cell_type": "code",
   "execution_count": 50,
   "id": "3c705f63",
   "metadata": {},
   "outputs": [
    {
     "ename": "KeyError",
     "evalue": "'unknown column name'",
     "output_type": "error",
     "traceback": [
      "\u001b[0;31m---------------------------------------------------------------------------\u001b[0m",
      "\u001b[0;31mKeyError\u001b[0m                                  Traceback (most recent call last)",
      "\u001b[0;32m<ipython-input-50-ffdeec579741>\u001b[0m in \u001b[0;36m<module>\u001b[0;34m\u001b[0m\n\u001b[0;32m----> 1\u001b[0;31m \u001b[0msurveys_df\u001b[0m\u001b[0;34m.\u001b[0m\u001b[0mgroupby\u001b[0m\u001b[0;34m(\u001b[0m\u001b[0;34m'unknown column name'\u001b[0m\u001b[0;34m)\u001b[0m\u001b[0;34m\u001b[0m\u001b[0;34m\u001b[0m\u001b[0m\n\u001b[0m",
      "\u001b[0;32m~/opt/anaconda3/envs/teaching/lib/python3.7/site-packages/pandas/core/frame.py\u001b[0m in \u001b[0;36mgroupby\u001b[0;34m(self, by, axis, level, as_index, sort, group_keys, squeeze, observed, dropna)\u001b[0m\n\u001b[1;32m   6725\u001b[0m             \u001b[0msqueeze\u001b[0m\u001b[0;34m=\u001b[0m\u001b[0msqueeze\u001b[0m\u001b[0;34m,\u001b[0m\u001b[0;34m\u001b[0m\u001b[0;34m\u001b[0m\u001b[0m\n\u001b[1;32m   6726\u001b[0m             \u001b[0mobserved\u001b[0m\u001b[0;34m=\u001b[0m\u001b[0mobserved\u001b[0m\u001b[0;34m,\u001b[0m\u001b[0;34m\u001b[0m\u001b[0;34m\u001b[0m\u001b[0m\n\u001b[0;32m-> 6727\u001b[0;31m             \u001b[0mdropna\u001b[0m\u001b[0;34m=\u001b[0m\u001b[0mdropna\u001b[0m\u001b[0;34m,\u001b[0m\u001b[0;34m\u001b[0m\u001b[0;34m\u001b[0m\u001b[0m\n\u001b[0m\u001b[1;32m   6728\u001b[0m         )\n\u001b[1;32m   6729\u001b[0m \u001b[0;34m\u001b[0m\u001b[0m\n",
      "\u001b[0;32m~/opt/anaconda3/envs/teaching/lib/python3.7/site-packages/pandas/core/groupby/groupby.py\u001b[0m in \u001b[0;36m__init__\u001b[0;34m(self, obj, keys, axis, level, grouper, exclusions, selection, as_index, sort, group_keys, squeeze, observed, mutated, dropna)\u001b[0m\n\u001b[1;32m    566\u001b[0m                 \u001b[0mobserved\u001b[0m\u001b[0;34m=\u001b[0m\u001b[0mobserved\u001b[0m\u001b[0;34m,\u001b[0m\u001b[0;34m\u001b[0m\u001b[0;34m\u001b[0m\u001b[0m\n\u001b[1;32m    567\u001b[0m                 \u001b[0mmutated\u001b[0m\u001b[0;34m=\u001b[0m\u001b[0mself\u001b[0m\u001b[0;34m.\u001b[0m\u001b[0mmutated\u001b[0m\u001b[0;34m,\u001b[0m\u001b[0;34m\u001b[0m\u001b[0;34m\u001b[0m\u001b[0m\n\u001b[0;32m--> 568\u001b[0;31m                 \u001b[0mdropna\u001b[0m\u001b[0;34m=\u001b[0m\u001b[0mself\u001b[0m\u001b[0;34m.\u001b[0m\u001b[0mdropna\u001b[0m\u001b[0;34m,\u001b[0m\u001b[0;34m\u001b[0m\u001b[0;34m\u001b[0m\u001b[0m\n\u001b[0m\u001b[1;32m    569\u001b[0m             )\n\u001b[1;32m    570\u001b[0m \u001b[0;34m\u001b[0m\u001b[0m\n",
      "\u001b[0;32m~/opt/anaconda3/envs/teaching/lib/python3.7/site-packages/pandas/core/groupby/grouper.py\u001b[0m in \u001b[0;36mget_grouper\u001b[0;34m(obj, key, axis, level, sort, observed, mutated, validate, dropna)\u001b[0m\n\u001b[1;32m    809\u001b[0m                 \u001b[0min_axis\u001b[0m\u001b[0;34m,\u001b[0m \u001b[0mname\u001b[0m\u001b[0;34m,\u001b[0m \u001b[0mlevel\u001b[0m\u001b[0;34m,\u001b[0m \u001b[0mgpr\u001b[0m \u001b[0;34m=\u001b[0m \u001b[0;32mFalse\u001b[0m\u001b[0;34m,\u001b[0m \u001b[0;32mNone\u001b[0m\u001b[0;34m,\u001b[0m \u001b[0mgpr\u001b[0m\u001b[0;34m,\u001b[0m \u001b[0;32mNone\u001b[0m\u001b[0;34m\u001b[0m\u001b[0;34m\u001b[0m\u001b[0m\n\u001b[1;32m    810\u001b[0m             \u001b[0;32melse\u001b[0m\u001b[0;34m:\u001b[0m\u001b[0;34m\u001b[0m\u001b[0;34m\u001b[0m\u001b[0m\n\u001b[0;32m--> 811\u001b[0;31m                 \u001b[0;32mraise\u001b[0m \u001b[0mKeyError\u001b[0m\u001b[0;34m(\u001b[0m\u001b[0mgpr\u001b[0m\u001b[0;34m)\u001b[0m\u001b[0;34m\u001b[0m\u001b[0;34m\u001b[0m\u001b[0m\n\u001b[0m\u001b[1;32m    812\u001b[0m         \u001b[0;32melif\u001b[0m \u001b[0misinstance\u001b[0m\u001b[0;34m(\u001b[0m\u001b[0mgpr\u001b[0m\u001b[0;34m,\u001b[0m \u001b[0mGrouper\u001b[0m\u001b[0;34m)\u001b[0m \u001b[0;32mand\u001b[0m \u001b[0mgpr\u001b[0m\u001b[0;34m.\u001b[0m\u001b[0mkey\u001b[0m \u001b[0;32mis\u001b[0m \u001b[0;32mnot\u001b[0m \u001b[0;32mNone\u001b[0m\u001b[0;34m:\u001b[0m\u001b[0;34m\u001b[0m\u001b[0;34m\u001b[0m\u001b[0m\n\u001b[1;32m    813\u001b[0m             \u001b[0;31m# Add key to exclusions\u001b[0m\u001b[0;34m\u001b[0m\u001b[0;34m\u001b[0m\u001b[0;34m\u001b[0m\u001b[0m\n",
      "\u001b[0;31mKeyError\u001b[0m: 'unknown column name'"
     ]
    }
   ],
   "source": [
    "surveys_df.groupby('unknown column name')"
   ]
  },
  {
   "cell_type": "code",
   "execution_count": null,
   "id": "4b7d6adf",
   "metadata": {},
   "outputs": [],
   "source": [
    "# Group by species, select only the 'record_id' column, \n",
    "# then count the number of values in that column for each group\n",
    "species_counts = surveys_df.groupby('species_id')['record_id'].count()"
   ]
  },
  {
   "cell_type": "code",
   "execution_count": 47,
   "id": "cf9a4d1b",
   "metadata": {},
   "outputs": [
    {
     "data": {
      "text/plain": [
       "species_id\n",
       "AB      303\n",
       "AH      437\n",
       "AS        2\n",
       "BA       46\n",
       "CB       50\n",
       "CM       13\n",
       "CQ       16\n",
       "CS        1\n",
       "CT        1\n",
       "CU        1\n",
       "CV        1\n",
       "DM    10596\n",
       "DO     3027\n",
       "DS     2504\n",
       "DX       40\n",
       "NL     1252\n",
       "OL     1006\n",
       "OT     2249\n",
       "OX       12\n",
       "PB     2891\n",
       "PC       39\n",
       "PE     1299\n",
       "PF     1597\n",
       "PG        8\n",
       "PH       32\n",
       "PI        9\n",
       "PL       36\n",
       "PM      899\n",
       "PP     3123\n",
       "PU        5\n",
       "PX        6\n",
       "RF       75\n",
       "RM     2609\n",
       "RO        8\n",
       "RX        2\n",
       "SA       75\n",
       "SC        1\n",
       "SF       43\n",
       "SH      147\n",
       "SO       43\n",
       "SS      248\n",
       "ST        1\n",
       "SU        5\n",
       "UL        4\n",
       "UP        8\n",
       "UR       10\n",
       "US        4\n",
       "ZL        2\n",
       "Name: record_id, dtype: int64"
      ]
     },
     "execution_count": 47,
     "metadata": {},
     "output_type": "execute_result"
    }
   ],
   "source": [
    "species_counts"
   ]
  },
  {
   "cell_type": "code",
   "execution_count": 48,
   "id": "c5186dee",
   "metadata": {},
   "outputs": [
    {
     "data": {
      "text/plain": [
       "10"
      ]
     },
     "execution_count": 48,
     "metadata": {},
     "output_type": "execute_result"
    }
   ],
   "source": [
    "species_counts['UR']"
   ]
  },
  {
   "cell_type": "markdown",
   "id": "1836757d",
   "metadata": {},
   "source": [
    "## Basic math"
   ]
  },
  {
   "cell_type": "code",
   "execution_count": 52,
   "id": "70b5be1b",
   "metadata": {},
   "outputs": [
    {
     "data": {
      "text/plain": [
       "0         NaN\n",
       "1         NaN\n",
       "2         NaN\n",
       "3         NaN\n",
       "4         NaN\n",
       "         ... \n",
       "35544     NaN\n",
       "35545     NaN\n",
       "35546    14.0\n",
       "35547    51.0\n",
       "35548     NaN\n",
       "Name: weight, Length: 35549, dtype: float64"
      ]
     },
     "execution_count": 52,
     "metadata": {},
     "output_type": "execute_result"
    }
   ],
   "source": [
    "surveys_df['weight']"
   ]
  },
  {
   "cell_type": "code",
   "execution_count": 51,
   "id": "0926fce8",
   "metadata": {},
   "outputs": [
    {
     "data": {
      "text/plain": [
       "0          NaN\n",
       "1          NaN\n",
       "2          NaN\n",
       "3          NaN\n",
       "4          NaN\n",
       "         ...  \n",
       "35544      NaN\n",
       "35545      NaN\n",
       "35546     28.0\n",
       "35547    102.0\n",
       "35548      NaN\n",
       "Name: weight, Length: 35549, dtype: float64"
      ]
     },
     "execution_count": 51,
     "metadata": {},
     "output_type": "execute_result"
    }
   ],
   "source": [
    "surveys_df['weight'] * 2"
   ]
  },
  {
   "cell_type": "markdown",
   "id": "9f1514d9",
   "metadata": {},
   "source": [
    "## Quick & easy plotting using Pandas\n",
    "* matplotlib\n",
    "* seaborn"
   ]
  },
  {
   "cell_type": "code",
   "execution_count": 54,
   "id": "8e1faa8f",
   "metadata": {},
   "outputs": [],
   "source": [
    "species_counts = surveys_df.groupby('species_id')['record_id'].count()"
   ]
  },
  {
   "cell_type": "code",
   "execution_count": 53,
   "id": "1784a782",
   "metadata": {
    "collapsed": true,
    "jupyter": {
     "outputs_hidden": true
    },
    "tags": []
   },
   "outputs": [
    {
     "data": {
      "text/plain": [
       "species_id\n",
       "AB      303\n",
       "AH      437\n",
       "AS        2\n",
       "BA       46\n",
       "CB       50\n",
       "CM       13\n",
       "CQ       16\n",
       "CS        1\n",
       "CT        1\n",
       "CU        1\n",
       "CV        1\n",
       "DM    10596\n",
       "DO     3027\n",
       "DS     2504\n",
       "DX       40\n",
       "NL     1252\n",
       "OL     1006\n",
       "OT     2249\n",
       "OX       12\n",
       "PB     2891\n",
       "PC       39\n",
       "PE     1299\n",
       "PF     1597\n",
       "PG        8\n",
       "PH       32\n",
       "PI        9\n",
       "PL       36\n",
       "PM      899\n",
       "PP     3123\n",
       "PU        5\n",
       "PX        6\n",
       "RF       75\n",
       "RM     2609\n",
       "RO        8\n",
       "RX        2\n",
       "SA       75\n",
       "SC        1\n",
       "SF       43\n",
       "SH      147\n",
       "SO       43\n",
       "SS      248\n",
       "ST        1\n",
       "SU        5\n",
       "UL        4\n",
       "UP        8\n",
       "UR       10\n",
       "US        4\n",
       "ZL        2\n",
       "Name: record_id, dtype: int64"
      ]
     },
     "execution_count": 53,
     "metadata": {},
     "output_type": "execute_result"
    }
   ],
   "source": [
    "species_counts"
   ]
  },
  {
   "cell_type": "code",
   "execution_count": 55,
   "id": "f3dc9c69",
   "metadata": {},
   "outputs": [
    {
     "data": {
      "text/plain": [
       "<AxesSubplot:xlabel='species_id'>"
      ]
     },
     "execution_count": 55,
     "metadata": {},
     "output_type": "execute_result"
    },
    {
     "data": {
      "image/png": "[encoded data removed]",
      "text/plain": [
       "<Figure size 432x288 with 1 Axes>"
      ]
     },
     "metadata": {
      "needs_background": "light"
     },
     "output_type": "display_data"
    }
   ],
   "source": [
    "species_counts.plot(kind='bar')"
   ]
  },
  {
   "cell_type": "code",
   "execution_count": 56,
   "id": "5ab7ae6c",
   "metadata": {},
   "outputs": [],
   "source": [
    "# Lets plot the total number of animals captured at each site:\n",
    "total_count = surveys_df.groupby('plot_id')['record_id'].count()"
   ]
  },
  {
   "cell_type": "code",
   "execution_count": 60,
   "id": "66b0f10e",
   "metadata": {},
   "outputs": [
    {
     "name": "stdout",
     "output_type": "stream",
     "text": [
      "hello\n"
     ]
    }
   ],
   "source": [
    "print('hello')"
   ]
  },
  {
   "cell_type": "code",
   "execution_count": 59,
   "id": "2a1432ae",
   "metadata": {},
   "outputs": [
    {
     "name": "stdout",
     "output_type": "stream",
     "text": [
      "Help on built-in function print in module builtins:\n",
      "\n",
      "print(...)\n",
      "    print(value, ..., sep=' ', end='\\n', file=sys.stdout, flush=False)\n",
      "    \n",
      "    Prints the values to a stream, or to sys.stdout by default.\n",
      "    Optional keyword arguments:\n",
      "    file:  a file-like object (stream); defaults to the current sys.stdout.\n",
      "    sep:   string inserted between values, default a space.\n",
      "    end:   string appended after the last value, default a newline.\n",
      "    flush: whether to forcibly flush the stream.\n",
      "\n"
     ]
    }
   ],
   "source": [
    "help(print)"
   ]
  },
  {
   "cell_type": "code",
   "execution_count": 63,
   "id": "f6958adc",
   "metadata": {},
   "outputs": [
    {
     "data": {
      "text/plain": [
       "'record_id'"
      ]
     },
     "execution_count": 63,
     "metadata": {},
     "output_type": "execute_result"
    }
   ],
   "source": [
    "total_count.name"
   ]
  },
  {
   "cell_type": "code",
   "execution_count": 57,
   "id": "32320d88",
   "metadata": {},
   "outputs": [
    {
     "data": {
      "text/plain": [
       "<AxesSubplot:xlabel='plot_id'>"
      ]
     },
     "execution_count": 57,
     "metadata": {},
     "output_type": "execute_result"
    },
    {
     "data": {
      "image/png": "[encoded data removed]",
      "text/plain": [
       "<Figure size 432x288 with 1 Axes>"
      ]
     },
     "metadata": {
      "needs_background": "light"
     },
     "output_type": "display_data"
    }
   ],
   "source": [
    "total_count.plot(kind='bar') # keyword argument or named argument"
   ]
  },
  {
   "cell_type": "markdown",
   "id": "e0a01adc",
   "metadata": {},
   "source": [
    "Create a plot of average weight of the animals per site."
   ]
  },
  {
   "cell_type": "code",
   "execution_count": 74,
   "id": "05108d04",
   "metadata": {},
   "outputs": [
    {
     "data": {
      "text/plain": [
       "0         NaN\n",
       "1         NaN\n",
       "2         NaN\n",
       "3         NaN\n",
       "4         NaN\n",
       "         ... \n",
       "35544     NaN\n",
       "35545     NaN\n",
       "35546    14.0\n",
       "35547    51.0\n",
       "35548     NaN\n",
       "Name: weight, Length: 35549, dtype: float64"
      ]
     },
     "execution_count": 74,
     "metadata": {},
     "output_type": "execute_result"
    }
   ],
   "source": [
    "surveys_df['weight']"
   ]
  },
  {
   "cell_type": "code",
   "execution_count": 68,
   "id": "bcf538b4",
   "metadata": {},
   "outputs": [],
   "source": [
    "weight_per_site = surveys_df.groupby('plot_id')['weight'].mean()"
   ]
  },
  {
   "cell_type": "code",
   "execution_count": 70,
   "id": "392c47cf",
   "metadata": {},
   "outputs": [
    {
     "data": {
      "text/plain": [
       "<AxesSubplot:xlabel='plot_id'>"
      ]
     },
     "execution_count": 70,
     "metadata": {},
     "output_type": "execute_result"
    },
    {
     "data": {
      "image/png": "[encoded data removed]",
      "text/plain": [
       "<Figure size 432x288 with 1 Axes>"
      ]
     },
     "metadata": {
      "needs_background": "light"
     },
     "output_type": "display_data"
    }
   ],
   "source": [
    "weight_per_site.plot(kind='bar')"
   ]
  },
  {
   "cell_type": "markdown",
   "id": "40b885eb",
   "metadata": {},
   "source": [
    "Create a bar plot of total males versus total females for the entire dataset."
   ]
  },
  {
   "cell_type": "code",
   "execution_count": 78,
   "id": "540f54f2",
   "metadata": {},
   "outputs": [],
   "source": [
    "total_sex_count = surveys_df.groupby('sex')['record_id'].count()"
   ]
  },
  {
   "cell_type": "code",
   "execution_count": 79,
   "id": "db57489c",
   "metadata": {},
   "outputs": [
    {
     "data": {
      "text/plain": [
       "sex\n",
       "F    15690\n",
       "M    17348\n",
       "Name: record_id, dtype: int64"
      ]
     },
     "execution_count": 79,
     "metadata": {},
     "output_type": "execute_result"
    }
   ],
   "source": [
    "total_sex_count"
   ]
  },
  {
   "cell_type": "code",
   "execution_count": 75,
   "id": "48feafd9",
   "metadata": {},
   "outputs": [],
   "source": [
    "total_sex_count = surveys_df.groupby('sex')['weight'].count()"
   ]
  },
  {
   "cell_type": "code",
   "execution_count": 77,
   "id": "95b09dbb",
   "metadata": {},
   "outputs": [
    {
     "data": {
      "text/plain": [
       "sex\n",
       "F    15303\n",
       "M    16879\n",
       "Name: weight, dtype: int64"
      ]
     },
     "execution_count": 77,
     "metadata": {},
     "output_type": "execute_result"
    }
   ],
   "source": [
    "total_sex_count"
   ]
  },
  {
   "cell_type": "code",
   "execution_count": 76,
   "id": "b7c82400",
   "metadata": {},
   "outputs": [
    {
     "data": {
      "text/plain": [
       "<AxesSubplot:xlabel='sex'>"
      ]
     },
     "execution_count": 76,
     "metadata": {},
     "output_type": "execute_result"
    },
    {
     "data": {
      "image/png": "[encoded data removed]",
      "text/plain": [
       "<Figure size 432x288 with 1 Axes>"
      ]
     },
     "metadata": {
      "needs_background": "light"
     },
     "output_type": "display_data"
    }
   ],
   "source": [
    "total_sex_count.plot(kind='bar')"
   ]
  },
  {
   "cell_type": "markdown",
   "id": "48bd3344",
   "metadata": {},
   "source": [
    "Create a stacked bar plot, with weight on the Y axis, and the stacked variable being sex. The plot should show total weight by sex for each site."
   ]
  },
  {
   "cell_type": "code",
   "execution_count": 80,
   "id": "319b45f9",
   "metadata": {
    "collapsed": true,
    "jupyter": {
     "outputs_hidden": true
    },
    "tags": []
   },
   "outputs": [
    {
     "name": "stdout",
     "output_type": "stream",
     "text": [
      "Help on method groupby in module pandas.core.frame:\n",
      "\n",
      "groupby(by=None, axis=0, level=None, as_index: 'bool' = True, sort: 'bool' = True, group_keys: 'bool' = True, squeeze: 'bool' = <object object at 0x7fdd288f36f0>, observed: 'bool' = False, dropna: 'bool' = True) -> 'DataFrameGroupBy' method of pandas.core.frame.DataFrame instance\n",
      "    Group DataFrame using a mapper or by a Series of columns.\n",
      "    \n",
      "    A groupby operation involves some combination of splitting the\n",
      "    object, applying a function, and combining the results. This can be\n",
      "    used to group large amounts of data and compute operations on these\n",
      "    groups.\n",
      "    \n",
      "    Parameters\n",
      "    ----------\n",
      "    by : mapping, function, label, or list of labels\n",
      "        Used to determine the groups for the groupby.\n",
      "        If ``by`` is a function, it's called on each value of the object's\n",
      "        index. If a dict or Series is passed, the Series or dict VALUES\n",
      "        will be used to determine the groups (the Series' values are first\n",
      "        aligned; see ``.align()`` method). If an ndarray is passed, the\n",
      "        values are used as-is to determine the groups. A label or list of\n",
      "        labels may be passed to group by the columns in ``self``. Notice\n",
      "        that a tuple is interpreted as a (single) key.\n",
      "    axis : {0 or 'index', 1 or 'columns'}, default 0\n",
      "        Split along rows (0) or columns (1).\n",
      "    level : int, level name, or sequence of such, default None\n",
      "        If the axis is a MultiIndex (hierarchical), group by a particular\n",
      "        level or levels.\n",
      "    as_index : bool, default True\n",
      "        For aggregated output, return object with group labels as the\n",
      "        index. Only relevant for DataFrame input. as_index=False is\n",
      "        effectively \"SQL-style\" grouped output.\n",
      "    sort : bool, default True\n",
      "        Sort group keys. Get better performance by turning this off.\n",
      "        Note this does not influence the order of observations within each\n",
      "        group. Groupby preserves the order of rows within each group.\n",
      "    group_keys : bool, default True\n",
      "        When calling apply, add group keys to index to identify pieces.\n",
      "    squeeze : bool, default False\n",
      "        Reduce the dimensionality of the return type if possible,\n",
      "        otherwise return a consistent type.\n",
      "    \n",
      "        .. deprecated:: 1.1.0\n",
      "    \n",
      "    observed : bool, default False\n",
      "        This only applies if any of the groupers are Categoricals.\n",
      "        If True: only show observed values for categorical groupers.\n",
      "        If False: show all values for categorical groupers.\n",
      "    dropna : bool, default True\n",
      "        If True, and if group keys contain NA values, NA values together\n",
      "        with row/column will be dropped.\n",
      "        If False, NA values will also be treated as the key in groups\n",
      "    \n",
      "        .. versionadded:: 1.1.0\n",
      "    \n",
      "    Returns\n",
      "    -------\n",
      "    DataFrameGroupBy\n",
      "        Returns a groupby object that contains information about the groups.\n",
      "    \n",
      "    See Also\n",
      "    --------\n",
      "    resample : Convenience method for frequency conversion and resampling\n",
      "        of time series.\n",
      "    \n",
      "    Notes\n",
      "    -----\n",
      "    See the `user guide\n",
      "    <https://pandas.pydata.org/pandas-docs/stable/groupby.html>`_ for more.\n",
      "    \n",
      "    Examples\n",
      "    --------\n",
      "    >>> df = pd.DataFrame({'Animal': ['Falcon', 'Falcon',\n",
      "    ...                               'Parrot', 'Parrot'],\n",
      "    ...                    'Max Speed': [380., 370., 24., 26.]})\n",
      "    >>> df\n",
      "       Animal  Max Speed\n",
      "    0  Falcon      380.0\n",
      "    1  Falcon      370.0\n",
      "    2  Parrot       24.0\n",
      "    3  Parrot       26.0\n",
      "    >>> df.groupby(['Animal']).mean()\n",
      "            Max Speed\n",
      "    Animal\n",
      "    Falcon      375.0\n",
      "    Parrot       25.0\n",
      "    \n",
      "    **Hierarchical Indexes**\n",
      "    \n",
      "    We can groupby different levels of a hierarchical index\n",
      "    using the `level` parameter:\n",
      "    \n",
      "    >>> arrays = [['Falcon', 'Falcon', 'Parrot', 'Parrot'],\n",
      "    ...           ['Captive', 'Wild', 'Captive', 'Wild']]\n",
      "    >>> index = pd.MultiIndex.from_arrays(arrays, names=('Animal', 'Type'))\n",
      "    >>> df = pd.DataFrame({'Max Speed': [390., 350., 30., 20.]},\n",
      "    ...                   index=index)\n",
      "    >>> df\n",
      "                    Max Speed\n",
      "    Animal Type\n",
      "    Falcon Captive      390.0\n",
      "           Wild         350.0\n",
      "    Parrot Captive       30.0\n",
      "           Wild          20.0\n",
      "    >>> df.groupby(level=0).mean()\n",
      "            Max Speed\n",
      "    Animal\n",
      "    Falcon      370.0\n",
      "    Parrot       25.0\n",
      "    >>> df.groupby(level=\"Type\").mean()\n",
      "             Max Speed\n",
      "    Type\n",
      "    Captive      210.0\n",
      "    Wild         185.0\n",
      "    \n",
      "    We can also choose to include NA in group keys or not by setting\n",
      "    `dropna` parameter, the default setting is `True`:\n",
      "    \n",
      "    >>> l = [[1, 2, 3], [1, None, 4], [2, 1, 3], [1, 2, 2]]\n",
      "    >>> df = pd.DataFrame(l, columns=[\"a\", \"b\", \"c\"])\n",
      "    \n",
      "    >>> df.groupby(by=[\"b\"]).sum()\n",
      "        a   c\n",
      "    b\n",
      "    1.0 2   3\n",
      "    2.0 2   5\n",
      "    \n",
      "    >>> df.groupby(by=[\"b\"], dropna=False).sum()\n",
      "        a   c\n",
      "    b\n",
      "    1.0 2   3\n",
      "    2.0 2   5\n",
      "    NaN 1   4\n",
      "    \n",
      "    >>> l = [[\"a\", 12, 12], [None, 12.3, 33.], [\"b\", 12.3, 123], [\"a\", 1, 1]]\n",
      "    >>> df = pd.DataFrame(l, columns=[\"a\", \"b\", \"c\"])\n",
      "    \n",
      "    >>> df.groupby(by=\"a\").sum()\n",
      "        b     c\n",
      "    a\n",
      "    a   13.0   13.0\n",
      "    b   12.3  123.0\n",
      "    \n",
      "    >>> df.groupby(by=\"a\", dropna=False).sum()\n",
      "        b     c\n",
      "    a\n",
      "    a   13.0   13.0\n",
      "    b   12.3  123.0\n",
      "    NaN 12.3   33.0\n",
      "\n"
     ]
    }
   ],
   "source": [
    "help(surveys_df.groupby)"
   ]
  },
  {
   "cell_type": "code",
   "execution_count": 81,
   "id": "9e84c9fc",
   "metadata": {},
   "outputs": [],
   "source": [
    "# Get total wegith by sex for each site\n",
    "total_weight = surveys_df.groupby(['plot_id', 'sex'])['weight'].sum()"
   ]
  },
  {
   "cell_type": "code",
   "execution_count": 89,
   "id": "c440d30c",
   "metadata": {},
   "outputs": [
    {
     "data": {
      "text/html": [
       "<div>\n",
       "<style scoped>\n",
       "    .dataframe tbody tr th:only-of-type {\n",
       "        vertical-align: middle;\n",
       "    }\n",
       "\n",
       "    .dataframe tbody tr th {\n",
       "        vertical-align: top;\n",
       "    }\n",
       "\n",
       "    .dataframe thead th {\n",
       "        text-align: right;\n",
       "    }\n",
       "</style>\n",
       "<table border=\"1\" class=\"dataframe\">\n",
       "  <thead>\n",
       "    <tr style=\"text-align: right;\">\n",
       "      <th>sex</th>\n",
       "      <th>F</th>\n",
       "      <th>M</th>\n",
       "    </tr>\n",
       "    <tr>\n",
       "      <th>plot_id</th>\n",
       "      <th></th>\n",
       "      <th></th>\n",
       "    </tr>\n",
       "  </thead>\n",
       "  <tbody>\n",
       "    <tr>\n",
       "      <th>1</th>\n",
       "      <td>38253.0</td>\n",
       "      <td>59979.0</td>\n",
       "    </tr>\n",
       "    <tr>\n",
       "      <th>2</th>\n",
       "      <td>50144.0</td>\n",
       "      <td>57250.0</td>\n",
       "    </tr>\n",
       "    <tr>\n",
       "      <th>3</th>\n",
       "      <td>27251.0</td>\n",
       "      <td>28253.0</td>\n",
       "    </tr>\n",
       "    <tr>\n",
       "      <th>4</th>\n",
       "      <td>39796.0</td>\n",
       "      <td>49377.0</td>\n",
       "    </tr>\n",
       "  </tbody>\n",
       "</table>\n",
       "</div>"
      ],
      "text/plain": [
       "sex            F        M\n",
       "plot_id                  \n",
       "1        38253.0  59979.0\n",
       "2        50144.0  57250.0\n",
       "3        27251.0  28253.0\n",
       "4        39796.0  49377.0"
      ]
     },
     "execution_count": 89,
     "metadata": {},
     "output_type": "execute_result"
    }
   ],
   "source": [
    "total_weight.unstack().head(4)"
   ]
  },
  {
   "cell_type": "code",
   "execution_count": 90,
   "id": "4dcae7f1",
   "metadata": {},
   "outputs": [
    {
     "data": {
      "text/plain": [
       "plot_id  sex\n",
       "1        F      38253.0\n",
       "         M      59979.0\n",
       "2        F      50144.0\n",
       "         M      57250.0\n",
       "3        F      27251.0\n",
       "Name: weight, dtype: float64"
      ]
     },
     "execution_count": 90,
     "metadata": {},
     "output_type": "execute_result"
    }
   ],
   "source": [
    "total_weight.head(5)"
   ]
  },
  {
   "cell_type": "code",
   "execution_count": 84,
   "id": "33974267",
   "metadata": {},
   "outputs": [
    {
     "data": {
      "text/plain": [
       "<AxesSubplot:xlabel='plot_id,sex'>"
      ]
     },
     "execution_count": 84,
     "metadata": {},
     "output_type": "execute_result"
    },
    {
     "data": {
      "image/png": "[encoded data removed]",
      "text/plain": [
       "<Figure size 432x288 with 1 Axes>"
      ]
     },
     "metadata": {
      "needs_background": "light"
     },
     "output_type": "display_data"
    }
   ],
   "source": [
    "# this doesn't work\n",
    "total_weight.plot(kind='bar', stacked=True)"
   ]
  },
  {
   "cell_type": "code",
   "execution_count": 93,
   "id": "a0d377de",
   "metadata": {},
   "outputs": [
    {
     "data": {
      "text/plain": [
       "<AxesSubplot:xlabel='plot_id'>"
      ]
     },
     "execution_count": 93,
     "metadata": {},
     "output_type": "execute_result"
    },
    {
     "data": {
      "image/png": "[encoded data removed]",
      "text/plain": [
       "<Figure size 432x288 with 1 Axes>"
      ]
     },
     "metadata": {
      "needs_background": "light"
     },
     "output_type": "display_data"
    }
   ],
   "source": [
    "total_weight.unstack().plot(kind='bar', stacked=True)"
   ]
  },
  {
   "cell_type": "markdown",
   "id": "c5553cab",
   "metadata": {},
   "source": [
    "## Keypoints\n",
    "* Libraries enable us to extend the functionality of Python.\n",
    "* Pandas is a popular library for working with data.\n",
    "* A Dataframe is a Pandas data structure that allows one to access data by column (name or index) or row.\n",
    "* Aggregating data using the groupby() function enables you to generate useful summaries of data quickly.\n",
    "* Plots can be created from DataFrames or subsets of data that have been generated with groupby()."
   ]
  },
  {
   "cell_type": "code",
   "execution_count": null,
   "id": "2d991914",
   "metadata": {},
   "outputs": [],
   "source": []
  }
 ],
 "metadata": {
  "kernelspec": {
   "display_name": "Python 3",
   "language": "python",
   "name": "python3"
  },
  "language_info": {
   "codemirror_mode": {
    "name": "ipython",
    "version": 3
   },
   "file_extension": ".py",
   "mimetype": "text/x-python",
   "name": "python",
   "nbconvert_exporter": "python",
   "pygments_lexer": "ipython3",
   "version": "3.7.10"
  }
 },
 "nbformat": 4,
 "nbformat_minor": 5
}

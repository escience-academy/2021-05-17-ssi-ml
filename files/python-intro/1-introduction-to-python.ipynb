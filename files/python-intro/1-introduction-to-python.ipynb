{
 "cells": [
  {
   "cell_type": "markdown",
   "id": "3a5447fc",
   "metadata": {},
   "source": [
    "# Introduction to programming\n",
    "* Assigning variables\n",
    "* DAta types\n",
    "* Operators\n",
    "* functions"
   ]
  },
  {
   "cell_type": "markdown",
   "id": "4d0d809e",
   "metadata": {},
   "source": [
    "## Assigning variables"
   ]
  },
  {
   "cell_type": "code",
   "execution_count": 1,
   "id": "84d3cc79",
   "metadata": {},
   "outputs": [],
   "source": [
    "name = 'Sven' # String type\n",
    "age = 87 # integer type\n",
    "weight = 42.578329 # float type "
   ]
  },
  {
   "cell_type": "code",
   "execution_count": 2,
   "id": "44768673",
   "metadata": {},
   "outputs": [
    {
     "data": {
      "text/plain": [
       "'Sven'"
      ]
     },
     "execution_count": 2,
     "metadata": {},
     "output_type": "execute_result"
    }
   ],
   "source": [
    "name"
   ]
  },
  {
   "cell_type": "code",
   "execution_count": 3,
   "id": "d814cc11",
   "metadata": {},
   "outputs": [
    {
     "name": "stdout",
     "output_type": "stream",
     "text": [
      "hello Sven\n"
     ]
    }
   ],
   "source": [
    "print('hello', name)"
   ]
  },
  {
   "cell_type": "code",
   "execution_count": 4,
   "id": "3c01c9b3",
   "metadata": {},
   "outputs": [
    {
     "data": {
      "text/plain": [
       "str"
      ]
     },
     "execution_count": 4,
     "metadata": {},
     "output_type": "execute_result"
    }
   ],
   "source": [
    "type(name)"
   ]
  },
  {
   "cell_type": "code",
   "execution_count": 5,
   "id": "6751bf9e",
   "metadata": {},
   "outputs": [
    {
     "data": {
      "text/plain": [
       "int"
      ]
     },
     "execution_count": 5,
     "metadata": {},
     "output_type": "execute_result"
    }
   ],
   "source": [
    "type(age)"
   ]
  },
  {
   "cell_type": "code",
   "execution_count": 6,
   "id": "92cdbd1b",
   "metadata": {},
   "outputs": [
    {
     "data": {
      "text/plain": [
       "float"
      ]
     },
     "execution_count": 6,
     "metadata": {},
     "output_type": "execute_result"
    }
   ],
   "source": [
    "type(weight)"
   ]
  },
  {
   "cell_type": "markdown",
   "id": "dacdd19a",
   "metadata": {},
   "source": [
    "## Math operators"
   ]
  },
  {
   "cell_type": "code",
   "execution_count": 7,
   "id": "950dcf75",
   "metadata": {},
   "outputs": [
    {
     "data": {
      "text/plain": [
       "4"
      ]
     },
     "execution_count": 7,
     "metadata": {},
     "output_type": "execute_result"
    }
   ],
   "source": [
    "2 + 2 # addition"
   ]
  },
  {
   "cell_type": "code",
   "execution_count": 8,
   "id": "61a2c174",
   "metadata": {},
   "outputs": [
    {
     "data": {
      "text/plain": [
       "42"
      ]
     },
     "execution_count": 8,
     "metadata": {},
     "output_type": "execute_result"
    }
   ],
   "source": [
    "6 * 7 # multiplication"
   ]
  },
  {
   "cell_type": "code",
   "execution_count": 9,
   "id": "77ef0df2",
   "metadata": {},
   "outputs": [
    {
     "data": {
      "text/plain": [
       "65536"
      ]
     },
     "execution_count": 9,
     "metadata": {},
     "output_type": "execute_result"
    }
   ],
   "source": [
    "2 ** 16 # Power"
   ]
  },
  {
   "cell_type": "markdown",
   "id": "84b541c4",
   "metadata": {},
   "source": [
    "## Logic Operators"
   ]
  },
  {
   "cell_type": "code",
   "execution_count": 12,
   "id": "2b19a1f6",
   "metadata": {},
   "outputs": [
    {
     "data": {
      "text/plain": [
       "False"
      ]
     },
     "execution_count": 12,
     "metadata": {},
     "output_type": "execute_result"
    }
   ],
   "source": [
    "3 > 4"
   ]
  },
  {
   "cell_type": "code",
   "execution_count": 13,
   "id": "c9cc936f",
   "metadata": {},
   "outputs": [],
   "source": [
    "result = 3 > 4"
   ]
  },
  {
   "cell_type": "code",
   "execution_count": 14,
   "id": "ab676212",
   "metadata": {},
   "outputs": [
    {
     "data": {
      "text/plain": [
       "False"
      ]
     },
     "execution_count": 14,
     "metadata": {},
     "output_type": "execute_result"
    }
   ],
   "source": [
    "result"
   ]
  },
  {
   "cell_type": "code",
   "execution_count": 15,
   "id": "a5fb5c4a",
   "metadata": {},
   "outputs": [
    {
     "data": {
      "text/plain": [
       "bool"
      ]
     },
     "execution_count": 15,
     "metadata": {},
     "output_type": "execute_result"
    }
   ],
   "source": [
    "type(result)"
   ]
  },
  {
   "cell_type": "code",
   "execution_count": 16,
   "id": "b567b9a2",
   "metadata": {},
   "outputs": [
    {
     "data": {
      "text/plain": [
       "True"
      ]
     },
     "execution_count": 16,
     "metadata": {},
     "output_type": "execute_result"
    }
   ],
   "source": [
    "True and True"
   ]
  },
  {
   "cell_type": "code",
   "execution_count": 17,
   "id": "1341a3fc",
   "metadata": {},
   "outputs": [
    {
     "data": {
      "text/plain": [
       "False"
      ]
     },
     "execution_count": 17,
     "metadata": {},
     "output_type": "execute_result"
    }
   ],
   "source": [
    "True and False"
   ]
  },
  {
   "cell_type": "code",
   "execution_count": 18,
   "id": "933589fc",
   "metadata": {},
   "outputs": [
    {
     "data": {
      "text/plain": [
       "True"
      ]
     },
     "execution_count": 18,
     "metadata": {},
     "output_type": "execute_result"
    }
   ],
   "source": [
    "True or False"
   ]
  },
  {
   "cell_type": "code",
   "execution_count": 20,
   "id": "d36943b9",
   "metadata": {},
   "outputs": [],
   "source": [
    "# You use logical operators during data filtering"
   ]
  },
  {
   "cell_type": "markdown",
   "id": "c10c9d33",
   "metadata": {},
   "source": [
    "## Sequences: Lists and Tuples"
   ]
  },
  {
   "cell_type": "code",
   "execution_count": 21,
   "id": "a63ebb41",
   "metadata": {},
   "outputs": [],
   "source": [
    "numbers = [1, 2, 3]"
   ]
  },
  {
   "cell_type": "code",
   "execution_count": 22,
   "id": "b609b246",
   "metadata": {},
   "outputs": [
    {
     "data": {
      "text/plain": [
       "[1, 2, 3]"
      ]
     },
     "execution_count": 22,
     "metadata": {},
     "output_type": "execute_result"
    }
   ],
   "source": [
    "numbers"
   ]
  },
  {
   "cell_type": "code",
   "execution_count": 23,
   "id": "1ffe58c0",
   "metadata": {},
   "outputs": [
    {
     "data": {
      "text/plain": [
       "list"
      ]
     },
     "execution_count": 23,
     "metadata": {},
     "output_type": "execute_result"
    }
   ],
   "source": [
    "type(numbers)"
   ]
  },
  {
   "cell_type": "code",
   "execution_count": 25,
   "id": "2eeb82e8",
   "metadata": {},
   "outputs": [
    {
     "data": {
      "text/plain": [
       "1"
      ]
     },
     "execution_count": 25,
     "metadata": {},
     "output_type": "execute_result"
    }
   ],
   "source": [
    "numbers[0] # Get element of index 0 NB 0-indexing in python"
   ]
  },
  {
   "cell_type": "code",
   "execution_count": 29,
   "id": "cc441720",
   "metadata": {},
   "outputs": [
    {
     "name": "stdout",
     "output_type": "stream",
     "text": [
      "hi there\n",
      "1\n",
      "hi there\n",
      "2\n",
      "hi there\n",
      "3\n",
      "finally done\n"
     ]
    }
   ],
   "source": [
    "for num in numbers:\n",
    "    print('hi there')\n",
    "    print(num)\n",
    "print('finally done')"
   ]
  },
  {
   "cell_type": "code",
   "execution_count": 30,
   "id": "7c623cbf",
   "metadata": {},
   "outputs": [],
   "source": [
    "# appending to lists\n",
    "numbers.append(4)"
   ]
  },
  {
   "cell_type": "code",
   "execution_count": 31,
   "id": "269fe0d9",
   "metadata": {},
   "outputs": [
    {
     "data": {
      "text/plain": [
       "[1, 2, 3, 4]"
      ]
     },
     "execution_count": 31,
     "metadata": {},
     "output_type": "execute_result"
    }
   ],
   "source": [
    "numbers"
   ]
  },
  {
   "cell_type": "code",
   "execution_count": null,
   "id": "660fd4f8",
   "metadata": {},
   "outputs": [],
   "source": [
    "help(numbers) # Get numbers"
   ]
  },
  {
   "cell_type": "code",
   "execution_count": 33,
   "id": "f158cc10",
   "metadata": {},
   "outputs": [],
   "source": [
    "whatever = [1,2]"
   ]
  },
  {
   "cell_type": "markdown",
   "id": "268ef938",
   "metadata": {},
   "source": [
    "## Tuples\n",
    "ordered sequence of elements. They can not be changed once created (they are 'immutable')"
   ]
  },
  {
   "cell_type": "code",
   "execution_count": 35,
   "id": "32621bac",
   "metadata": {},
   "outputs": [],
   "source": [
    "a_tuple = (1, 2, 3)"
   ]
  },
  {
   "cell_type": "code",
   "execution_count": 36,
   "id": "3400dc68",
   "metadata": {},
   "outputs": [
    {
     "data": {
      "text/plain": [
       "(1, 2, 3)"
      ]
     },
     "execution_count": 36,
     "metadata": {},
     "output_type": "execute_result"
    }
   ],
   "source": [
    "a_tuple"
   ]
  },
  {
   "cell_type": "code",
   "execution_count": 37,
   "id": "bdb0ae4e",
   "metadata": {},
   "outputs": [
    {
     "data": {
      "text/plain": [
       "tuple"
      ]
     },
     "execution_count": 37,
     "metadata": {},
     "output_type": "execute_result"
    }
   ],
   "source": [
    "type(a_tuple)"
   ]
  },
  {
   "cell_type": "code",
   "execution_count": 38,
   "id": "91ab94b9",
   "metadata": {},
   "outputs": [],
   "source": [
    "another_tuple = ('blue', 'green', 'red')"
   ]
  },
  {
   "cell_type": "code",
   "execution_count": 40,
   "id": "efdad102",
   "metadata": {},
   "outputs": [],
   "source": [
    "another_tuple = ('blue', 'green', 2)"
   ]
  },
  {
   "cell_type": "code",
   "execution_count": 41,
   "id": "1ffce4e7",
   "metadata": {},
   "outputs": [],
   "source": [
    "a_list = [1, 2, 3]"
   ]
  },
  {
   "cell_type": "markdown",
   "id": "2e30d2fc",
   "metadata": {},
   "source": [
    "#### Exercise: Understanding lists and tuples\n",
    "* What happens when you execute a_list[1] = 5?\n",
    "* What happens when you execute a_tuple[2] = 5?\n",
    "* What does type(a_tuple) tell you about a_tuple?"
   ]
  },
  {
   "cell_type": "markdown",
   "id": "7be94614",
   "metadata": {},
   "source": [
    "What happens when you execute a_list[1] = 5?"
   ]
  },
  {
   "cell_type": "code",
   "execution_count": 42,
   "id": "61e15bd6",
   "metadata": {},
   "outputs": [
    {
     "data": {
      "text/plain": [
       "[1, 2, 3]"
      ]
     },
     "execution_count": 42,
     "metadata": {},
     "output_type": "execute_result"
    }
   ],
   "source": [
    "a_list"
   ]
  },
  {
   "cell_type": "code",
   "execution_count": 43,
   "id": "cfc66d03",
   "metadata": {},
   "outputs": [],
   "source": [
    "a_list[1] = 5"
   ]
  },
  {
   "cell_type": "code",
   "execution_count": 49,
   "id": "1438020e",
   "metadata": {},
   "outputs": [
    {
     "name": "stdout",
     "output_type": "stream",
     "text": [
      "['a', 'b', 'c']\n",
      "['a', 'd', 'c']\n"
     ]
    }
   ],
   "source": [
    "string_list = ['a', 'b', 'c']\n",
    "print(string_list)\n",
    "string_list[1] = 'd'\n",
    "print(string_list)"
   ]
  },
  {
   "cell_type": "code",
   "execution_count": 44,
   "id": "303134c3",
   "metadata": {},
   "outputs": [
    {
     "data": {
      "text/plain": [
       "[1, 5, 3]"
      ]
     },
     "execution_count": 44,
     "metadata": {},
     "output_type": "execute_result"
    }
   ],
   "source": [
    "a_list"
   ]
  },
  {
   "cell_type": "markdown",
   "id": "e1c53dd5",
   "metadata": {},
   "source": [
    "What happens when you execute a_tuple[2] = 5?"
   ]
  },
  {
   "cell_type": "code",
   "execution_count": 45,
   "id": "ee6c3f35",
   "metadata": {},
   "outputs": [
    {
     "ename": "TypeError",
     "evalue": "'tuple' object does not support item assignment",
     "output_type": "error",
     "traceback": [
      "\u001b[0;31m---------------------------------------------------------------------------\u001b[0m",
      "\u001b[0;31mTypeError\u001b[0m                                 Traceback (most recent call last)",
      "\u001b[0;32m<ipython-input-45-71ec42f900ac>\u001b[0m in \u001b[0;36m<module>\u001b[0;34m\u001b[0m\n\u001b[0;32m----> 1\u001b[0;31m \u001b[0ma_tuple\u001b[0m\u001b[0;34m[\u001b[0m\u001b[0;36m2\u001b[0m\u001b[0;34m]\u001b[0m \u001b[0;34m=\u001b[0m \u001b[0;36m5\u001b[0m\u001b[0;34m\u001b[0m\u001b[0;34m\u001b[0m\u001b[0m\n\u001b[0m",
      "\u001b[0;31mTypeError\u001b[0m: 'tuple' object does not support item assignment"
     ]
    }
   ],
   "source": [
    "a_tuple[2] = 5"
   ]
  },
  {
   "cell_type": "markdown",
   "id": "a2aae299",
   "metadata": {},
   "source": [
    "What does type(a_tuple) tell you about a_tuple?"
   ]
  },
  {
   "cell_type": "code",
   "execution_count": 46,
   "id": "bf6eec04",
   "metadata": {},
   "outputs": [
    {
     "data": {
      "text/plain": [
       "tuple"
      ]
     },
     "execution_count": 46,
     "metadata": {},
     "output_type": "execute_result"
    }
   ],
   "source": [
    "type(a_tuple)"
   ]
  },
  {
   "cell_type": "code",
   "execution_count": 50,
   "id": "a15b3adb",
   "metadata": {},
   "outputs": [
    {
     "data": {
      "text/plain": [
       "3"
      ]
     },
     "execution_count": 50,
     "metadata": {},
     "output_type": "execute_result"
    }
   ],
   "source": [
    "a_list[-1] # start indexing from the end"
   ]
  },
  {
   "cell_type": "code",
   "execution_count": 51,
   "id": "70f615d6",
   "metadata": {},
   "outputs": [
    {
     "name": "stdout",
     "output_type": "stream",
     "text": [
      "a_list\t a_tuple\t age\t another_tuple\t name\t num\t numbers\t result\t string_list\t \n",
      "weight\t whatever\t \n"
     ]
    }
   ],
   "source": [
    "%who"
   ]
  },
  {
   "cell_type": "markdown",
   "id": "117493fc",
   "metadata": {},
   "source": [
    "## Shortkeys for cells:\n",
    "Esc - switching to 'selecting' the cell\n",
    "* m - markdown\n",
    "* y - code\n",
    "* a - cell above\n",
    "* b - cell below\n",
    "* x - delete cell"
   ]
  },
  {
   "cell_type": "markdown",
   "id": "af5ef78e",
   "metadata": {},
   "source": [
    "## Dictionaries\n",
    "A dictionary is a container that holds pairs of objects - keys and values."
   ]
  },
  {
   "cell_type": "code",
   "execution_count": 52,
   "id": "a494bb32",
   "metadata": {},
   "outputs": [],
   "source": [
    "translation = {'one': 'first', 'two': 'second'} # one=key first=value"
   ]
  },
  {
   "cell_type": "code",
   "execution_count": 54,
   "id": "9e37fd53",
   "metadata": {},
   "outputs": [
    {
     "data": {
      "text/plain": [
       "'first'"
      ]
     },
     "execution_count": 54,
     "metadata": {},
     "output_type": "execute_result"
    }
   ],
   "source": [
    "translation['one'] # give me the value that corresponds to key 'one'"
   ]
  },
  {
   "cell_type": "code",
   "execution_count": 56,
   "id": "9ff076c5",
   "metadata": {},
   "outputs": [
    {
     "data": {
      "text/plain": [
       "'second'"
      ]
     },
     "execution_count": 56,
     "metadata": {},
     "output_type": "execute_result"
    }
   ],
   "source": [
    "translation['two']"
   ]
  },
  {
   "cell_type": "code",
   "execution_count": 57,
   "id": "61acd2c8",
   "metadata": {},
   "outputs": [
    {
     "data": {
      "text/plain": [
       "dict"
      ]
     },
     "execution_count": 57,
     "metadata": {},
     "output_type": "execute_result"
    }
   ],
   "source": [
    "type(translation)"
   ]
  },
  {
   "cell_type": "code",
   "execution_count": 58,
   "id": "5bc14706",
   "metadata": {},
   "outputs": [],
   "source": [
    "rev = {'first': 'one', 'second': 'two'}"
   ]
  },
  {
   "cell_type": "code",
   "execution_count": 59,
   "id": "5bd4d47c",
   "metadata": {},
   "outputs": [
    {
     "data": {
      "text/plain": [
       "'one'"
      ]
     },
     "execution_count": 59,
     "metadata": {},
     "output_type": "execute_result"
    }
   ],
   "source": [
    "rev['first']"
   ]
  },
  {
   "cell_type": "code",
   "execution_count": 61,
   "id": "88c8cf50",
   "metadata": {},
   "outputs": [],
   "source": [
    "rev['third'] = 'three' # For key 'third' assign value 'three'"
   ]
  },
  {
   "cell_type": "code",
   "execution_count": 62,
   "id": "4f09a772",
   "metadata": {},
   "outputs": [
    {
     "data": {
      "text/plain": [
       "{'first': 'one', 'second': 'two', 'third': 'three'}"
      ]
     },
     "execution_count": 62,
     "metadata": {},
     "output_type": "execute_result"
    }
   ],
   "source": [
    "rev"
   ]
  },
  {
   "cell_type": "code",
   "execution_count": null,
   "id": "97fc23cc",
   "metadata": {},
   "outputs": [],
   "source": [
    "# list for loop\n",
    "for num in numbers:\n",
    "    print('hi there')\n",
    "    print(num)"
   ]
  },
  {
   "cell_type": "code",
   "execution_count": 64,
   "id": "0d6a858a",
   "metadata": {},
   "outputs": [
    {
     "data": {
      "text/plain": [
       "{'first': 'one', 'second': 'two', 'third': 'three'}"
      ]
     },
     "execution_count": 64,
     "metadata": {},
     "output_type": "execute_result"
    }
   ],
   "source": [
    "rev"
   ]
  },
  {
   "cell_type": "code",
   "execution_count": 63,
   "id": "cb363bc4",
   "metadata": {},
   "outputs": [
    {
     "name": "stdout",
     "output_type": "stream",
     "text": [
      "first -> one\n",
      "second -> two\n",
      "third -> three\n"
     ]
    }
   ],
   "source": [
    "for key, value in rev.items():\n",
    "    print(key, '->', value)"
   ]
  },
  {
   "cell_type": "code",
   "execution_count": 65,
   "id": "f14eba19",
   "metadata": {},
   "outputs": [
    {
     "name": "stdout",
     "output_type": "stream",
     "text": [
      "first\n",
      "second\n",
      "third\n"
     ]
    }
   ],
   "source": [
    "for key in rev.keys():\n",
    "    print(key)"
   ]
  },
  {
   "cell_type": "markdown",
   "id": "165b9185",
   "metadata": {},
   "source": [
    "#### Exercise: Dictionaries\n",
    "* First, print the value of the rev dictionary to the screen.\n",
    "* Reassign the value that corresponds to the key second so that it no longer reads “two” but instead 2.\n",
    "* Print the value of rev to the screen again to see if the value has changed."
   ]
  },
  {
   "cell_type": "code",
   "execution_count": 75,
   "id": "313f79c8",
   "metadata": {},
   "outputs": [
    {
     "data": {
      "text/plain": [
       "{'first': 'one', 'second': 'two', 'third': 'three'}"
      ]
     },
     "execution_count": 75,
     "metadata": {},
     "output_type": "execute_result"
    }
   ],
   "source": [
    "rev"
   ]
  },
  {
   "cell_type": "code",
   "execution_count": 76,
   "id": "6492497e",
   "metadata": {},
   "outputs": [
    {
     "name": "stdout",
     "output_type": "stream",
     "text": [
      "{'first': 'one', 'second': 'two', 'third': 'three'}\n"
     ]
    }
   ],
   "source": [
    "print(rev)"
   ]
  },
  {
   "cell_type": "code",
   "execution_count": 77,
   "id": "6c7a1235",
   "metadata": {},
   "outputs": [],
   "source": [
    "rev['second'] = 2"
   ]
  },
  {
   "cell_type": "code",
   "execution_count": 78,
   "id": "7173b36f",
   "metadata": {},
   "outputs": [
    {
     "data": {
      "text/plain": [
       "{'first': 'one', 'second': 2, 'third': 'three'}"
      ]
     },
     "execution_count": 78,
     "metadata": {},
     "output_type": "execute_result"
    }
   ],
   "source": [
    "rev"
   ]
  },
  {
   "cell_type": "code",
   "execution_count": 80,
   "id": "c74cd950",
   "metadata": {},
   "outputs": [
    {
     "data": {
      "text/plain": [
       "int"
      ]
     },
     "execution_count": 80,
     "metadata": {},
     "output_type": "execute_result"
    }
   ],
   "source": [
    "type(rev['second'])"
   ]
  },
  {
   "cell_type": "code",
   "execution_count": 81,
   "id": "490e3f81",
   "metadata": {},
   "outputs": [],
   "source": [
    "rev['second'] = '2'"
   ]
  },
  {
   "cell_type": "code",
   "execution_count": 82,
   "id": "6ba6418b",
   "metadata": {},
   "outputs": [
    {
     "data": {
      "text/plain": [
       "str"
      ]
     },
     "execution_count": 82,
     "metadata": {},
     "output_type": "execute_result"
    }
   ],
   "source": [
    "type(rev['second'])"
   ]
  },
  {
   "cell_type": "markdown",
   "id": "b9719f9b",
   "metadata": {},
   "source": [
    "Remove elements from a list or dict?"
   ]
  },
  {
   "cell_type": "code",
   "execution_count": 66,
   "id": "08ef68b7",
   "metadata": {},
   "outputs": [],
   "source": [
    "a_list = [1, 2, 3]"
   ]
  },
  {
   "cell_type": "code",
   "execution_count": 67,
   "id": "d2419789",
   "metadata": {},
   "outputs": [
    {
     "data": {
      "text/plain": [
       "[1, 2, 3]"
      ]
     },
     "execution_count": 67,
     "metadata": {},
     "output_type": "execute_result"
    }
   ],
   "source": [
    "a_list"
   ]
  },
  {
   "cell_type": "code",
   "execution_count": 68,
   "id": "1611b551",
   "metadata": {},
   "outputs": [],
   "source": [
    "a_list.remove(2) # remove first value in list that matches 2"
   ]
  },
  {
   "cell_type": "code",
   "execution_count": 69,
   "id": "cf4a0ebb",
   "metadata": {},
   "outputs": [
    {
     "data": {
      "text/plain": [
       "[1, 3]"
      ]
     },
     "execution_count": 69,
     "metadata": {},
     "output_type": "execute_result"
    }
   ],
   "source": [
    "a_list"
   ]
  },
  {
   "cell_type": "code",
   "execution_count": 70,
   "id": "8b0ea2bc",
   "metadata": {},
   "outputs": [
    {
     "data": {
      "text/plain": [
       "1"
      ]
     },
     "execution_count": 70,
     "metadata": {},
     "output_type": "execute_result"
    }
   ],
   "source": [
    "a_list.pop(0) # remove element from list at index 0"
   ]
  },
  {
   "cell_type": "code",
   "execution_count": 71,
   "id": "44023e9d",
   "metadata": {},
   "outputs": [
    {
     "data": {
      "text/plain": [
       "[3]"
      ]
     },
     "execution_count": 71,
     "metadata": {},
     "output_type": "execute_result"
    }
   ],
   "source": [
    "a_list"
   ]
  },
  {
   "cell_type": "code",
   "execution_count": 73,
   "id": "7d884156",
   "metadata": {},
   "outputs": [
    {
     "data": {
      "text/plain": [
       "2"
      ]
     },
     "execution_count": 73,
     "metadata": {},
     "output_type": "execute_result"
    }
   ],
   "source": [
    "a_dict = {'hello': 2}\n",
    "a_dict.pop('hello') # remove key-value pair with key 'hello' form dict"
   ]
  },
  {
   "cell_type": "code",
   "execution_count": 74,
   "id": "78338ebf",
   "metadata": {},
   "outputs": [
    {
     "data": {
      "text/plain": [
       "{}"
      ]
     },
     "execution_count": 74,
     "metadata": {},
     "output_type": "execute_result"
    }
   ],
   "source": [
    "a_dict"
   ]
  },
  {
   "cell_type": "code",
   "execution_count": 5,
   "id": "97ba9e64",
   "metadata": {},
   "outputs": [
    {
     "name": "stdout",
     "output_type": "stream",
     "text": [
      "\n"
     ]
    }
   ],
   "source": [
    "# which type of brackets\n",
    "a_dict = {'one': 'first'}\n",
    "a_list = [1, 2]\n",
    "a_tuple = (1, 2)\n",
    "\n",
    "#indexing (getting a value) uses square brackets\n",
    "a_dict['one']\n",
    "a_list[0]\n",
    "a_tuple[0]\n",
    "\n",
    "# calling something (i.e. a function or method) uses parentheses\n",
    "print()"
   ]
  },
  {
   "cell_type": "markdown",
   "id": "cf0f8c7c",
   "metadata": {},
   "source": [
    "## Functions"
   ]
  },
  {
   "cell_type": "code",
   "execution_count": 1,
   "id": "ee9df396",
   "metadata": {},
   "outputs": [],
   "source": [
    "def add(a, b): # a and b are input arguments\n",
    "    result = a + b \n",
    "    return result # return statement tells what function should give back\n"
   ]
  },
  {
   "cell_type": "code",
   "execution_count": 2,
   "id": "4afea785",
   "metadata": {},
   "outputs": [],
   "source": [
    "z = add(20, 22)"
   ]
  },
  {
   "cell_type": "code",
   "execution_count": 3,
   "id": "9efdf2f8",
   "metadata": {},
   "outputs": [
    {
     "data": {
      "text/plain": [
       "42"
      ]
     },
     "execution_count": 3,
     "metadata": {},
     "output_type": "execute_result"
    }
   ],
   "source": [
    "z"
   ]
  },
  {
   "cell_type": "code",
   "execution_count": 6,
   "id": "03a0de24",
   "metadata": {},
   "outputs": [
    {
     "data": {
      "text/plain": [
       "[1, 2]"
      ]
     },
     "execution_count": 6,
     "metadata": {},
     "output_type": "execute_result"
    }
   ],
   "source": [
    "a_list"
   ]
  },
  {
   "cell_type": "markdown",
   "id": "391f3e57",
   "metadata": {},
   "source": [
    "#### Exercise: when to use tuples, lists, dictionaries\n",
    "For the following practical examples write down whether you would use a tuple, list, or dictionary to represent the data.\n",
    "1. Storing the favourite superpowers of the people in this class when later in our notebook we need to be able to answer: what is `name`'s favourite superpower?\n",
    "2. A point in 2D space (i.e. with x and y coordinate)\n",
    "3. The names of people in this class\n",
    "4. (optional) The age and weight of people in this class, so we can later ask what is `name`'s age and weight?"
   ]
  },
  {
   "cell_type": "code",
   "execution_count": 7,
   "id": "63f18cb0",
   "metadata": {},
   "outputs": [],
   "source": [
    "# 1.\n",
    "superpowers = {'sven': 'flying', 'jens': 'changing into an animal'}"
   ]
  },
  {
   "cell_type": "code",
   "execution_count": 8,
   "id": "e939ac0a",
   "metadata": {},
   "outputs": [
    {
     "data": {
      "text/plain": [
       "'changing into an animal'"
      ]
     },
     "execution_count": 8,
     "metadata": {},
     "output_type": "execute_result"
    }
   ],
   "source": [
    "superpowers['jens']"
   ]
  },
  {
   "cell_type": "code",
   "execution_count": 10,
   "id": "d4be97fc",
   "metadata": {},
   "outputs": [],
   "source": [
    "#2. \n",
    "point = (0.23, 0.56)\n",
    "new_point = (0.1, 0.34)"
   ]
  },
  {
   "cell_type": "code",
   "execution_count": 12,
   "id": "b2b55696",
   "metadata": {},
   "outputs": [],
   "source": [
    "#3.\n",
    "names = ['sven', 'jens']\n",
    "names.append('Fangxin')"
   ]
  },
  {
   "cell_type": "code",
   "execution_count": 13,
   "id": "c93f4731",
   "metadata": {},
   "outputs": [
    {
     "data": {
      "text/plain": [
       "['sven', 'jens', 'Fangxin']"
      ]
     },
     "execution_count": 13,
     "metadata": {},
     "output_type": "execute_result"
    }
   ],
   "source": [
    "names"
   ]
  },
  {
   "cell_type": "code",
   "execution_count": 15,
   "id": "df45cd14",
   "metadata": {},
   "outputs": [
    {
     "data": {
      "text/plain": [
       "(87, 42.3)"
      ]
     },
     "execution_count": 15,
     "metadata": {},
     "output_type": "execute_result"
    }
   ],
   "source": [
    "#4.\n",
    "people_data = {'sven': (87, 42.3), 'jens': (99, 12.4)}\n",
    "people_data['sven']"
   ]
  },
  {
   "cell_type": "code",
   "execution_count": null,
   "id": "af0adbb7",
   "metadata": {},
   "outputs": [],
   "source": [
    "(87, 42.3)\n",
    "{'age': 87, 'weight': 52.3}"
   ]
  },
  {
   "cell_type": "code",
   "execution_count": null,
   "id": "1e7e5136",
   "metadata": {},
   "outputs": [],
   "source": [
    "numpy"
   ]
  },
  {
   "cell_type": "markdown",
   "id": "bb5add64",
   "metadata": {},
   "source": [
    "## Keypoints\n",
    "* Python is an interpreted language which can be used interactively (executing one command at a time) or in scripting mode (executing a series of commands saved in file).\n",
    "* One can assign a value to a variable in Python. Those variables can be of several types, such as string, integer, floating point and complex numbers.\n",
    "* Lists and tuples are similar in that they are ordered lists of elements; they differ in that a tuple is immutable (cannot be changed).\n",
    "* Dictionaries are data structures that provide mappings between keys and values."
   ]
  },
  {
   "cell_type": "code",
   "execution_count": null,
   "id": "411ef977",
   "metadata": {},
   "outputs": [],
   "source": []
  }
 ],
 "metadata": {
  "kernelspec": {
   "display_name": "Python 3",
   "language": "python",
   "name": "python3"
  },
  "language_info": {
   "codemirror_mode": {
    "name": "ipython",
    "version": 3
   },
   "file_extension": ".py",
   "mimetype": "text/x-python",
   "name": "python",
   "nbconvert_exporter": "python",
   "pygments_lexer": "ipython3",
   "version": "3.7.10"
  }
 },
 "nbformat": 4,
 "nbformat_minor": 5
}
